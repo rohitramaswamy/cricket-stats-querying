{
 "cells": [
  {
   "cell_type": "code",
   "execution_count": 20,
   "metadata": {},
   "outputs": [],
   "source": [
    "import pandas as pd\n",
    "import requests\n",
    "from bs4 import BeautifulSoup\n"
   ]
  },
  {
   "cell_type": "code",
   "execution_count": 71,
   "metadata": {},
   "outputs": [],
   "source": [
    "\n",
    "\n",
    "headers = {\n",
    "    'User-Agent': 'Mozilla/5.0 (Windows NT 10.0; Win64; x64) AppleWebKit/537.36 (KHTML, like Gecko) Chrome/58.0.3029.110 Safari/537.3'\n",
    "}\n"
   ]
  },
  {
   "cell_type": "code",
   "execution_count": 81,
   "metadata": {},
   "outputs": [
    {
     "name": "stderr",
     "output_type": "stream",
     "text": [
      "/var/folders/hq/qg6bwz2j2h3bxmtygp63lp5r0000gn/T/ipykernel_37256/429428495.py:19: FutureWarning: Passing literal html to 'read_html' is deprecated and will be removed in a future version. To read from a literal string, wrap it in a 'StringIO' object.\n",
      "  df = pd.DataFrame(pd.read_html(str(tables[2]))[0])\n",
      "/var/folders/hq/qg6bwz2j2h3bxmtygp63lp5r0000gn/T/ipykernel_37256/429428495.py:19: FutureWarning: Passing literal html to 'read_html' is deprecated and will be removed in a future version. To read from a literal string, wrap it in a 'StringIO' object.\n",
      "  df = pd.DataFrame(pd.read_html(str(tables[2]))[0])\n",
      "/var/folders/hq/qg6bwz2j2h3bxmtygp63lp5r0000gn/T/ipykernel_37256/429428495.py:19: FutureWarning: Passing literal html to 'read_html' is deprecated and will be removed in a future version. To read from a literal string, wrap it in a 'StringIO' object.\n",
      "  df = pd.DataFrame(pd.read_html(str(tables[2]))[0])\n",
      "/var/folders/hq/qg6bwz2j2h3bxmtygp63lp5r0000gn/T/ipykernel_37256/429428495.py:19: FutureWarning: Passing literal html to 'read_html' is deprecated and will be removed in a future version. To read from a literal string, wrap it in a 'StringIO' object.\n",
      "  df = pd.DataFrame(pd.read_html(str(tables[2]))[0])\n",
      "/var/folders/hq/qg6bwz2j2h3bxmtygp63lp5r0000gn/T/ipykernel_37256/429428495.py:19: FutureWarning: Passing literal html to 'read_html' is deprecated and will be removed in a future version. To read from a literal string, wrap it in a 'StringIO' object.\n",
      "  df = pd.DataFrame(pd.read_html(str(tables[2]))[0])\n",
      "/var/folders/hq/qg6bwz2j2h3bxmtygp63lp5r0000gn/T/ipykernel_37256/429428495.py:19: FutureWarning: Passing literal html to 'read_html' is deprecated and will be removed in a future version. To read from a literal string, wrap it in a 'StringIO' object.\n",
      "  df = pd.DataFrame(pd.read_html(str(tables[2]))[0])\n",
      "/var/folders/hq/qg6bwz2j2h3bxmtygp63lp5r0000gn/T/ipykernel_37256/429428495.py:19: FutureWarning: Passing literal html to 'read_html' is deprecated and will be removed in a future version. To read from a literal string, wrap it in a 'StringIO' object.\n",
      "  df = pd.DataFrame(pd.read_html(str(tables[2]))[0])\n",
      "/var/folders/hq/qg6bwz2j2h3bxmtygp63lp5r0000gn/T/ipykernel_37256/429428495.py:19: FutureWarning: Passing literal html to 'read_html' is deprecated and will be removed in a future version. To read from a literal string, wrap it in a 'StringIO' object.\n",
      "  df = pd.DataFrame(pd.read_html(str(tables[2]))[0])\n",
      "/var/folders/hq/qg6bwz2j2h3bxmtygp63lp5r0000gn/T/ipykernel_37256/429428495.py:19: FutureWarning: Passing literal html to 'read_html' is deprecated and will be removed in a future version. To read from a literal string, wrap it in a 'StringIO' object.\n",
      "  df = pd.DataFrame(pd.read_html(str(tables[2]))[0])\n",
      "/var/folders/hq/qg6bwz2j2h3bxmtygp63lp5r0000gn/T/ipykernel_37256/429428495.py:19: FutureWarning: Passing literal html to 'read_html' is deprecated and will be removed in a future version. To read from a literal string, wrap it in a 'StringIO' object.\n",
      "  df = pd.DataFrame(pd.read_html(str(tables[2]))[0])\n",
      "/var/folders/hq/qg6bwz2j2h3bxmtygp63lp5r0000gn/T/ipykernel_37256/429428495.py:19: FutureWarning: Passing literal html to 'read_html' is deprecated and will be removed in a future version. To read from a literal string, wrap it in a 'StringIO' object.\n",
      "  df = pd.DataFrame(pd.read_html(str(tables[2]))[0])\n",
      "/var/folders/hq/qg6bwz2j2h3bxmtygp63lp5r0000gn/T/ipykernel_37256/429428495.py:19: FutureWarning: Passing literal html to 'read_html' is deprecated and will be removed in a future version. To read from a literal string, wrap it in a 'StringIO' object.\n",
      "  df = pd.DataFrame(pd.read_html(str(tables[2]))[0])\n",
      "/var/folders/hq/qg6bwz2j2h3bxmtygp63lp5r0000gn/T/ipykernel_37256/429428495.py:19: FutureWarning: Passing literal html to 'read_html' is deprecated and will be removed in a future version. To read from a literal string, wrap it in a 'StringIO' object.\n",
      "  df = pd.DataFrame(pd.read_html(str(tables[2]))[0])\n"
     ]
    },
    {
     "name": "stdout",
     "output_type": "stream",
     "text": [
      "                    Player   2010   2011   2012   2013    2014    2015  \\\n",
      "0        A Balbirnie (IRE)    NaN    NaN    NaN    NaN     NaN     NaN   \n",
      "1          A Symonds (AUS)  337.0  337.0    NaN    NaN     NaN     NaN   \n",
      "2      AB de Villiers (SA)  579.0  604.0  680.0  818.0  1007.0  1049.0   \n",
      "3           AD Hales (ENG)    NaN    NaN    NaN  563.0  1022.0  1089.0   \n",
      "4          AD Mathews (SL)    NaN    NaN    NaN  479.0   674.0   674.0   \n",
      "..                     ...    ...    ...    ...    ...     ...     ...   \n",
      "106         V Sehwag (IND)  313.0    NaN    NaN    NaN     NaN     NaN   \n",
      "107  Virandeep Singh (MAS)    NaN    NaN    NaN    NaN     NaN     NaN   \n",
      "108  WTS Porterfield (IRE)    NaN    NaN  407.0  475.0   627.0   627.0   \n",
      "109      Younis Khan (PAK)  432.0  442.0  442.0    NaN     NaN     NaN   \n",
      "110     Yuvraj Singh (IND)  555.0  567.0  567.0  791.0   968.0   968.0   \n",
      "\n",
      "       2016    2017    2018    2019    2020    2021    2022    2023  \n",
      "0       NaN     NaN     NaN     NaN     NaN     NaN  1489.0  1857.0  \n",
      "1       NaN     NaN     NaN     NaN     NaN     NaN     NaN     NaN  \n",
      "2    1368.0  1603.0  1672.0  1672.0  1672.0  1672.0  1672.0  1672.0  \n",
      "3    1220.0  1340.0  1601.0  1644.0  1644.0  1644.0  1644.0  2074.0  \n",
      "4     987.0  1047.0  1055.0  1055.0     NaN     NaN     NaN     NaN  \n",
      "..      ...     ...     ...     ...     ...     ...     ...     ...  \n",
      "106     NaN     NaN     NaN     NaN     NaN     NaN     NaN     NaN  \n",
      "107     NaN     NaN     NaN     NaN     NaN     NaN     NaN  1581.0  \n",
      "108   893.0  1002.0  1038.0  1079.0     NaN     NaN     NaN     NaN  \n",
      "109     NaN     NaN     NaN     NaN     NaN     NaN     NaN     NaN  \n",
      "110  1134.0  1177.0  1177.0  1177.0     NaN     NaN     NaN     NaN  \n",
      "\n",
      "[111 rows x 15 columns]\n"
     ]
    },
    {
     "name": "stderr",
     "output_type": "stream",
     "text": [
      "/var/folders/hq/qg6bwz2j2h3bxmtygp63lp5r0000gn/T/ipykernel_37256/429428495.py:19: FutureWarning: Passing literal html to 'read_html' is deprecated and will be removed in a future version. To read from a literal string, wrap it in a 'StringIO' object.\n",
      "  df = pd.DataFrame(pd.read_html(str(tables[2]))[0])\n"
     ]
    }
   ],
   "source": [
    "\n",
    "# Initialize current_df correctly\n",
    "current_df = pd.DataFrame(columns=[\"Player\"])\n",
    "\n",
    "year = 2010\n",
    "for i in range(14):\n",
    "    url = f'https://stats.espncricinfo.com/ci/engine/stats/index.html?class=3;spanmax1=10+Jul+{year};spanval1=span;template=results;type=batting'\n",
    "    try:\n",
    "        response = requests.get(url, headers=headers)\n",
    "        response.raise_for_status()  # Check if the request was successful\n",
    "\n",
    "        # Parse the HTML content\n",
    "        soup = BeautifulSoup(response.content, 'html.parser')\n",
    "\n",
    "        # Find all tables in the page\n",
    "        tables = soup.find_all('table')\n",
    "\n",
    "        # Convert the first table to a pandas DataFrame\n",
    "        if tables:\n",
    "            df = pd.DataFrame(pd.read_html(str(tables[2]))[0])\n",
    "            if 'Player' in df.columns and 'Runs' in df.columns:\n",
    "                df = df[['Player', 'Runs']]\n",
    "                df.rename(columns={'Runs': f'{year}'}, inplace=True)\n",
    "                current_df = pd.merge(current_df, df, on='Player', how='outer')\n",
    "\n",
    "            else:\n",
    "                print(f\"'Player' or 'Runs' column not found for the year {year}\")\n",
    "        else:\n",
    "            print(\"No tables found on the page.\")\n",
    "    except requests.HTTPError as e:\n",
    "        print(f\"HTTP error occurred: {e.response.status_code} - {e.response.reason}\")\n",
    "    except Exception as e:\n",
    "        print(f\"An error occurred: {str(e)}\")\n",
    "\n",
    "    year = year + 1\n",
    "    \n",
    "\n",
    "print(current_df)\n"
   ]
  },
  {
   "cell_type": "code",
   "execution_count": 82,
   "metadata": {},
   "outputs": [],
   "source": [
    "excel_file = \"output.xlsx\" \n",
    " \n",
    "# Write DataFrame to Excel \n",
    "current_df.to_excel(excel_file, index=False) "
   ]
  }
 ],
 "metadata": {
  "kernelspec": {
   "display_name": ".venv",
   "language": "python",
   "name": "python3"
  },
  "language_info": {
   "codemirror_mode": {
    "name": "ipython",
    "version": 3
   },
   "file_extension": ".py",
   "mimetype": "text/x-python",
   "name": "python",
   "nbconvert_exporter": "python",
   "pygments_lexer": "ipython3",
   "version": "3.9.6"
  }
 },
 "nbformat": 4,
 "nbformat_minor": 2
}
