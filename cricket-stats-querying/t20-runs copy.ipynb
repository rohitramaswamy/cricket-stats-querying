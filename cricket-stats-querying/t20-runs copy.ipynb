{
 "cells": [
  {
   "cell_type": "code",
   "execution_count": 2,
   "metadata": {},
   "outputs": [
    {
     "name": "stderr",
     "output_type": "stream",
     "text": [
      "/Users/rohitramaswamy/Desktop/programming-stuff/sports-data-scraping/.venv/lib/python3.9/site-packages/urllib3/__init__.py:35: NotOpenSSLWarning: urllib3 v2 only supports OpenSSL 1.1.1+, currently the 'ssl' module is compiled with 'LibreSSL 2.8.3'. See: https://github.com/urllib3/urllib3/issues/3020\n",
      "  warnings.warn(\n"
     ]
    }
   ],
   "source": [
    "import pandas as pd\n",
    "import requests\n",
    "from bs4 import BeautifulSoup\n",
    "from io import StringIO"
   ]
  },
  {
   "cell_type": "code",
   "execution_count": 3,
   "metadata": {},
   "outputs": [],
   "source": [
    "\n",
    "\n",
    "headers = {\n",
    "    'User-Agent': 'Mozilla/5.0 (Windows NT 10.0; Win64; x64) AppleWebKit/537.36 (KHTML, like Gecko) Chrome/58.0.3029.110 Safari/537.3'\n",
    "}\n"
   ]
  },
  {
   "cell_type": "code",
   "execution_count": 4,
   "metadata": {},
   "outputs": [
    {
     "name": "stdout",
     "output_type": "stream",
     "text": [
      "                   Player    2010    2011    2012\n",
      "0         A Symonds (AUS)   337.0   337.0     NaN\n",
      "1     AB de Villiers (SA)   579.0   604.0   680.0\n",
      "2      Abdul Razzaq (PAK)     NaN   346.0     NaN\n",
      "3        BB McCullum (NZ)  1100.0  1100.0  1352.0\n",
      "4         BJ Haddin (AUS)   300.0   335.0     NaN\n",
      "5        BRM Taylor (ZIM)     NaN     NaN   373.0\n",
      "6      C Kieswetter (ENG)     NaN     NaN   411.0\n",
      "7           CH Gayle (WI)   617.0   617.0   757.0\n",
      "8      CJ Chibhabha (ZIM)     NaN     NaN   370.0\n",
      "9          CL White (AUS)   505.0   519.0   632.0\n",
      "10        DA Warner (AUS)   644.0   706.0   866.0\n",
      "11          DJ Bravo (WI)   344.0   344.0   470.0\n",
      "12        DJ Hussey (AUS)   579.0   622.0   752.0\n",
      "13  DPMD Jayawardene (SL)   760.0   856.0   955.0\n",
      "14       EJG Morgan (ENG)   360.0   520.0   603.0\n",
      "15        G Gambhir (IND)   621.0   621.0   746.0\n",
      "16          GC Smith (SA)   803.0   958.0   982.0\n",
      "17      H Masakadza (ZIM)   329.0   411.0   559.0\n",
      "18          HH Gibbs (SA)   400.0   400.0   400.0\n",
      "19      Imran Nazir (PAK)   324.0   324.0     NaN\n",
      "20         JA Morkel (SA)   443.0   443.0   482.0\n",
      "21          JD Ryder (NZ)   324.0   330.0   412.0\n",
      "22          JDP Oram (NZ)   396.0   396.0   423.0\n",
      "23         JH Kallis (SA)   512.0   512.0   573.0\n",
      "24         JP Duminy (SA)   456.0   648.0   794.0\n",
      "25     KC Sangakkara (SL)   733.0   820.0   910.0\n",
      "26      KJ Coetzer (SCOT)     NaN     NaN   369.0\n",
      "27     KP Pietersen (ENG)   911.0   978.0  1176.0\n",
      "28     Kamran Akmal (PAK)   687.0   704.0   704.0\n",
      "29         LE Bosman (SA)     NaN   323.0     NaN\n",
      "30        LJ Wright (ENG)   328.0   355.0   355.0\n",
      "31       LRPL Taylor (NZ)   590.0   659.0   677.0\n",
      "32       MEK Hussey (AUS)   457.0   457.0   530.0\n",
      "33        MJ Clarke (AUS)   472.0   488.0   488.0\n",
      "34        MJ Guptill (NZ)   341.0   439.0   817.0\n",
      "35        ML Hayden (AUS)   308.0     NaN     NaN\n",
      "36         MS Dhoni (IND)   441.0   451.0   549.0\n",
      "37    Misbah-ul-Haq (PAK)   577.0   637.0   788.0\n",
      "38  Mohammad Hafeez (PAK)     NaN   369.0   576.0\n",
      "39          OA Shah (ENG)   347.0   347.0   347.0\n",
      "40   PD Collingwood (ENG)   536.0   583.0   583.0\n",
      "41        RG Sharma (IND)   335.0   414.0   415.0\n",
      "42         RR Sarwan (WI)   298.0     NaN     NaN\n",
      "43        RS Bopara (ENG)     NaN     NaN   358.0\n",
      "44       RT Ponting (AUS)   401.0   401.0   401.0\n",
      "45     S Chanderpaul (WI)   343.0   343.0     NaN\n",
      "46         SB Styris (NZ)   492.0   578.0   578.0\n",
      "47         SK Raina (IND)   468.0   511.0   597.0\n",
      "48        SR Watson (AUS)   375.0   455.0   643.0\n",
      "49     ST Jayasuriya (SL)   621.0   629.0   629.0\n",
      "50      Salman Butt (PAK)   595.0   595.0   595.0\n",
      "51    Shahid Afridi (PAK)   584.0   683.0   801.0\n",
      "52     Shoaib Malik (PAK)   636.0   636.0   745.0\n",
      "53        TM Dilshan (SL)   717.0   758.0   917.0\n",
      "54       Umar Akmal (PAK)   403.0   571.0   699.0\n",
      "55         V Sehwag (IND)   313.0     NaN     NaN\n",
      "56  WTS Porterfield (IRE)     NaN     NaN   407.0\n",
      "57      Younis Khan (PAK)   432.0   442.0   442.0\n",
      "58     Yuvraj Singh (IND)   555.0   567.0   567.0\n"
     ]
    }
   ],
   "source": [
    "\n",
    "# Initialize current_df correctly\n",
    "current_df = pd.DataFrame(columns=[\"Player\"])\n",
    "\n",
    "year = 2010\n",
    "for i in range(3):\n",
    "    url = f'https://stats.espncricinfo.com/ci/engine/stats/index.html?class=3;spanmax1=10+Jul+{year};spanval1=span;template=results;type=batting'\n",
    "    try:\n",
    "        response = requests.get(url, headers=headers)\n",
    "        response.raise_for_status()  # Check if the request was successful\n",
    "\n",
    "        # Parse the HTML content\n",
    "        soup = BeautifulSoup(response.content, 'html.parser')\n",
    "\n",
    "        # Find all tables in the page\n",
    "        tables = soup.find_all('table')\n",
    "\n",
    "        # Convert the first table to a pandas DataFrame\n",
    "        if tables:\n",
    "            df = pd.DataFrame(pd.read_html(StringIO(str(tables[2])))[0])\n",
    "            if 'Player' in df.columns and 'Runs' in df.columns:\n",
    "                df = df[['Player', 'Runs']]\n",
    "                df.rename(columns={'Runs': f'{year}'}, inplace=True)\n",
    "                current_df = pd.merge(current_df, df, on='Player', how='outer')\n",
    "\n",
    "            else:\n",
    "                print(f\"'Player' or 'Runs' column not found for the year {year}\")\n",
    "        else:\n",
    "            print(\"No tables found on the page.\")\n",
    "    except requests.HTTPError as e:\n",
    "        print(f\"HTTP error occurred: {e.response.status_code} - {e.response.reason}\")\n",
    "    except Exception as e:\n",
    "        print(f\"An error occurred: {str(e)}\")\n",
    "\n",
    "    year = year + 1\n",
    "    \n",
    "\n",
    "print(current_df)\n"
   ]
  },
  {
   "cell_type": "code",
   "execution_count": 1,
   "metadata": {},
   "outputs": [
    {
     "ename": "NameError",
     "evalue": "name 'pd' is not defined",
     "output_type": "error",
     "traceback": [
      "\u001b[0;31m---------------------------------------------------------------------------\u001b[0m",
      "\u001b[0;31mNameError\u001b[0m                                 Traceback (most recent call last)",
      "Cell \u001b[0;32mIn[1], line 2\u001b[0m\n\u001b[1;32m      1\u001b[0m \u001b[38;5;66;03m# List of countries\u001b[39;00m\n\u001b[0;32m----> 2\u001b[0m countries \u001b[38;5;241m=\u001b[39m \u001b[43mpd\u001b[49m\u001b[38;5;241m.\u001b[39mread_csv(\u001b[38;5;124m'\u001b[39m\u001b[38;5;124mdata/shortcodes.csv\u001b[39m\u001b[38;5;124m'\u001b[39m, dtype\u001b[38;5;241m=\u001b[39m\u001b[38;5;28mstr\u001b[39m)  \n\u001b[1;32m      4\u001b[0m \u001b[38;5;28mprint\u001b[39m(countries\u001b[38;5;241m.\u001b[39mtail(\u001b[38;5;241m5\u001b[39m))\n\u001b[1;32m      6\u001b[0m \u001b[38;5;66;03m# row_index = countries[countries[\"Code\"] == 'IND'].index[0]\u001b[39;00m\n\u001b[1;32m      7\u001b[0m \u001b[38;5;66;03m# print(row_index)\u001b[39;00m\n\u001b[1;32m      8\u001b[0m \n\u001b[1;32m      9\u001b[0m \u001b[38;5;66;03m# Function to get Shortcode based on Code\u001b[39;00m\n",
      "\u001b[0;31mNameError\u001b[0m: name 'pd' is not defined"
     ]
    }
   ],
   "source": [
    "\n",
    "# List of countries\n",
    "countries = pd.read_csv('data/shortcodes.csv', dtype=str)  \n",
    "\n",
    "print(countries.tail(5))\n",
    "\n",
    "# row_index = countries[countries[\"Code\"] == 'IND'].index[0]\n",
    "# print(row_index)\n",
    "\n",
    "# Function to get Shortcode based on Code\n",
    "def get_row(input):\n",
    "    rows = countries[countries[\"Code\"] == input].index\n",
    "    if len(rows) > 0:\n",
    "        row_index = rows[0]\n",
    "        if len(countries.loc[row_index, \"Lowercase shortcode\"]) == 2:\n",
    "            return f'https://public.flourish.studio/country-flags/svg/{countries.loc[row_index, \"Lowercase shortcode\"]}.svg'\n",
    "        else:\n",
    "            return countries.loc[row_index, \"Lowercase shortcode\"]\n",
    "    else:\n",
    "        return 'Unknown'  # Or any default value you want to assign\n",
    "\n",
    "# Apply function to get Shortcode for each country in current_df\n",
    "current_df[\"Flag\"] = current_df[\"Country\"].apply(get_row)\n",
    "\n",
    "print(current_df.head(5))"
   ]
  },
  {
   "cell_type": "code",
   "execution_count": 5,
   "metadata": {},
   "outputs": [],
   "source": [
    "excel_file = \"output.xlsx\" \n",
    " \n",
    "# Write DataFrame to Excel \n",
    "current_df.to_excel(excel_file, index=False) "
   ]
  }
 ],
 "metadata": {
  "kernelspec": {
   "display_name": ".venv",
   "language": "python",
   "name": "python3"
  },
  "language_info": {
   "codemirror_mode": {
    "name": "ipython",
    "version": 3
   },
   "file_extension": ".py",
   "mimetype": "text/x-python",
   "name": "python",
   "nbconvert_exporter": "python",
   "pygments_lexer": "ipython3",
   "version": "3.9.6"
  }
 },
 "nbformat": 4,
 "nbformat_minor": 2
}
