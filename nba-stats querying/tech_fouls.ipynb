{
 "cells": [
  {
   "cell_type": "code",
   "execution_count": 56,
   "metadata": {},
   "outputs": [],
   "source": [
    "import pandas as pd\n",
    "import requests\n",
    "from bs4 import BeautifulSoup\n"
   ]
  },
  {
   "cell_type": "code",
   "execution_count": 57,
   "metadata": {},
   "outputs": [],
   "source": [
    "\n",
    "headers = {\n",
    "    'User-Agent': 'Mozilla/5.0 (Windows NT 10.0; Win64; x64) AppleWebKit/537.36 (KHTML, like Gecko) Chrome/58.0.3029.110 Safari/537.3'\n",
    "}\n"
   ]
  },
  {
   "cell_type": "code",
   "execution_count": 58,
   "metadata": {},
   "outputs": [
    {
     "name": "stdout",
     "output_type": "stream",
     "text": [
      "1\n",
      "              Player  2007\n",
      "0    Rasheed Wallace    28\n",
      "1   Richard Hamilton    18\n",
      "2    Stephen Jackson    16\n",
      "3        Kobe Bryant    15\n",
      "4        Baron Davis    14\n",
      "..               ...   ...\n",
      "95     Darko Milicic     3\n",
      "96       Tony Parker     3\n",
      "97  Anderson Varejao     3\n",
      "98     Devean George     3\n",
      "99   Francisco Elson     3\n",
      "\n",
      "[100 rows x 2 columns]\n"
     ]
    },
    {
     "name": "stderr",
     "output_type": "stream",
     "text": [
      "/var/folders/hq/qg6bwz2j2h3bxmtygp63lp5r0000gn/T/ipykernel_74479/3036406787.py:17: FutureWarning: Passing literal html to 'read_html' is deprecated and will be removed in a future version. To read from a literal string, wrap it in a 'StringIO' object.\n",
      "  df = pd.DataFrame(pd.read_html(str(tables[0]))[0])[['Player', 'Value']]\n"
     ]
    }
   ],
   "source": [
    "\n",
    "year = 2007\n",
    "df = pd.DataFrame() \n",
    "url = 'https://www.teamrankings.com/nba/player-stat/fouls-technical?rate=season-totals&season_id=204'\n",
    "try:\n",
    "    response = requests.get(url, headers=headers)\n",
    "    response.raise_for_status()  # Check if the request was successful\n",
    "\n",
    "    # Parse the HTML content\n",
    "    soup = BeautifulSoup(response.content, 'html.parser')\n",
    "\n",
    "    # Find all tables in the page\n",
    "    tables = soup.find_all('table')\n",
    "\n",
    "    # Convert the first table to a pandas DataFrame\n",
    "    if tables:\n",
    "        print(len(tables))\n",
    "        df = pd.DataFrame(pd.read_html(str(tables[0]))[0])[['Player', 'Value']]\n",
    "        # df['Player'] = df['Player'].str.replace('*', '', regex=False).str.strip()\n",
    "        # df = df.drop(df.index[-1])\n",
    "        df.rename(columns={'Value': f'{year}'}, inplace=True)\n",
    "\n",
    "\n",
    "        # df[f'{year}'] = df[f'{year}'].astype(int)\n",
    "        # df = df[['Player', 'Goals']]\n",
    "        \n",
    "        print(df)\n",
    "        # if 'Player' in df.columns and 'Runs' in df.columns:\n",
    "        #     df = df[['Player', 'Wkts']].head(15)\n",
    "        #     # df.rename(columns={'Wkts': f'{year}'}, inplace=True)\n",
    "        #     # current_df = pd.merge(current_df, df, on='Player', how='outer')\n",
    "\n",
    "        # else:\n",
    "        #     print(f\"'Player' or 'Runs' column not found for the year {year}\")\n",
    "    else:\n",
    "        print(\"No tables found on the page.\")\n",
    "except requests.HTTPError as e:\n",
    "    print(f\"HTTP error occurred: {e.response.status_code} - {e.response.reason}\")\n",
    "except Exception as e:\n",
    "    print(f\"An error occurred: {str(e)}\")\n",
    "\n"
   ]
  },
  {
   "cell_type": "code",
   "execution_count": 59,
   "metadata": {},
   "outputs": [
    {
     "name": "stderr",
     "output_type": "stream",
     "text": [
      "/var/folders/hq/qg6bwz2j2h3bxmtygp63lp5r0000gn/T/ipykernel_74479/1649897031.py:24: FutureWarning: Passing literal html to 'read_html' is deprecated and will be removed in a future version. To read from a literal string, wrap it in a 'StringIO' object.\n",
      "  current_df = pd.DataFrame(pd.read_html(str(tables[0]))[0])[['Player', 'Value']]\n",
      "/var/folders/hq/qg6bwz2j2h3bxmtygp63lp5r0000gn/T/ipykernel_74479/1649897031.py:24: FutureWarning: Passing literal html to 'read_html' is deprecated and will be removed in a future version. To read from a literal string, wrap it in a 'StringIO' object.\n",
      "  current_df = pd.DataFrame(pd.read_html(str(tables[0]))[0])[['Player', 'Value']]\n",
      "/var/folders/hq/qg6bwz2j2h3bxmtygp63lp5r0000gn/T/ipykernel_74479/1649897031.py:24: FutureWarning: Passing literal html to 'read_html' is deprecated and will be removed in a future version. To read from a literal string, wrap it in a 'StringIO' object.\n",
      "  current_df = pd.DataFrame(pd.read_html(str(tables[0]))[0])[['Player', 'Value']]\n",
      "/var/folders/hq/qg6bwz2j2h3bxmtygp63lp5r0000gn/T/ipykernel_74479/1649897031.py:24: FutureWarning: Passing literal html to 'read_html' is deprecated and will be removed in a future version. To read from a literal string, wrap it in a 'StringIO' object.\n",
      "  current_df = pd.DataFrame(pd.read_html(str(tables[0]))[0])[['Player', 'Value']]\n",
      "/var/folders/hq/qg6bwz2j2h3bxmtygp63lp5r0000gn/T/ipykernel_74479/1649897031.py:24: FutureWarning: Passing literal html to 'read_html' is deprecated and will be removed in a future version. To read from a literal string, wrap it in a 'StringIO' object.\n",
      "  current_df = pd.DataFrame(pd.read_html(str(tables[0]))[0])[['Player', 'Value']]\n",
      "/var/folders/hq/qg6bwz2j2h3bxmtygp63lp5r0000gn/T/ipykernel_74479/1649897031.py:24: FutureWarning: Passing literal html to 'read_html' is deprecated and will be removed in a future version. To read from a literal string, wrap it in a 'StringIO' object.\n",
      "  current_df = pd.DataFrame(pd.read_html(str(tables[0]))[0])[['Player', 'Value']]\n",
      "/var/folders/hq/qg6bwz2j2h3bxmtygp63lp5r0000gn/T/ipykernel_74479/1649897031.py:24: FutureWarning: Passing literal html to 'read_html' is deprecated and will be removed in a future version. To read from a literal string, wrap it in a 'StringIO' object.\n",
      "  current_df = pd.DataFrame(pd.read_html(str(tables[0]))[0])[['Player', 'Value']]\n",
      "/var/folders/hq/qg6bwz2j2h3bxmtygp63lp5r0000gn/T/ipykernel_74479/1649897031.py:24: FutureWarning: Passing literal html to 'read_html' is deprecated and will be removed in a future version. To read from a literal string, wrap it in a 'StringIO' object.\n",
      "  current_df = pd.DataFrame(pd.read_html(str(tables[0]))[0])[['Player', 'Value']]\n",
      "/var/folders/hq/qg6bwz2j2h3bxmtygp63lp5r0000gn/T/ipykernel_74479/1649897031.py:24: FutureWarning: Passing literal html to 'read_html' is deprecated and will be removed in a future version. To read from a literal string, wrap it in a 'StringIO' object.\n",
      "  current_df = pd.DataFrame(pd.read_html(str(tables[0]))[0])[['Player', 'Value']]\n",
      "/var/folders/hq/qg6bwz2j2h3bxmtygp63lp5r0000gn/T/ipykernel_74479/1649897031.py:24: FutureWarning: Passing literal html to 'read_html' is deprecated and will be removed in a future version. To read from a literal string, wrap it in a 'StringIO' object.\n",
      "  current_df = pd.DataFrame(pd.read_html(str(tables[0]))[0])[['Player', 'Value']]\n",
      "/var/folders/hq/qg6bwz2j2h3bxmtygp63lp5r0000gn/T/ipykernel_74479/1649897031.py:24: FutureWarning: Passing literal html to 'read_html' is deprecated and will be removed in a future version. To read from a literal string, wrap it in a 'StringIO' object.\n",
      "  current_df = pd.DataFrame(pd.read_html(str(tables[0]))[0])[['Player', 'Value']]\n",
      "/var/folders/hq/qg6bwz2j2h3bxmtygp63lp5r0000gn/T/ipykernel_74479/1649897031.py:24: FutureWarning: Passing literal html to 'read_html' is deprecated and will be removed in a future version. To read from a literal string, wrap it in a 'StringIO' object.\n",
      "  current_df = pd.DataFrame(pd.read_html(str(tables[0]))[0])[['Player', 'Value']]\n",
      "/var/folders/hq/qg6bwz2j2h3bxmtygp63lp5r0000gn/T/ipykernel_74479/1649897031.py:24: FutureWarning: Passing literal html to 'read_html' is deprecated and will be removed in a future version. To read from a literal string, wrap it in a 'StringIO' object.\n",
      "  current_df = pd.DataFrame(pd.read_html(str(tables[0]))[0])[['Player', 'Value']]\n",
      "/var/folders/hq/qg6bwz2j2h3bxmtygp63lp5r0000gn/T/ipykernel_74479/1649897031.py:24: FutureWarning: Passing literal html to 'read_html' is deprecated and will be removed in a future version. To read from a literal string, wrap it in a 'StringIO' object.\n",
      "  current_df = pd.DataFrame(pd.read_html(str(tables[0]))[0])[['Player', 'Value']]\n",
      "/var/folders/hq/qg6bwz2j2h3bxmtygp63lp5r0000gn/T/ipykernel_74479/1649897031.py:24: FutureWarning: Passing literal html to 'read_html' is deprecated and will be removed in a future version. To read from a literal string, wrap it in a 'StringIO' object.\n",
      "  current_df = pd.DataFrame(pd.read_html(str(tables[0]))[0])[['Player', 'Value']]\n",
      "/var/folders/hq/qg6bwz2j2h3bxmtygp63lp5r0000gn/T/ipykernel_74479/1649897031.py:24: FutureWarning: Passing literal html to 'read_html' is deprecated and will be removed in a future version. To read from a literal string, wrap it in a 'StringIO' object.\n",
      "  current_df = pd.DataFrame(pd.read_html(str(tables[0]))[0])[['Player', 'Value']]\n"
     ]
    },
    {
     "name": "stdout",
     "output_type": "stream",
     "text": [
      "                 Player  2007  2008  2009  2010  2011  2012  2013  2014  2015  \\\n",
      "0          Aaron Brooks   0.0   0.0   3.0  12.0  19.0  19.0  23.0  29.0  38.0   \n",
      "1          Aaron Gordon   0.0   0.0   0.0   0.0   0.0   0.0   0.0   0.0   0.0   \n",
      "2            Aaron Gray   0.0   0.0   0.0   0.0   0.0   3.0   3.0   3.0   3.0   \n",
      "3         Aaron Holiday   0.0   0.0   0.0   0.0   0.0   0.0   0.0   0.0   0.0   \n",
      "4         Aaron Nesmith   0.0   0.0   0.0   0.0   0.0   0.0   0.0   0.0   0.0   \n",
      "..                  ...   ...   ...   ...   ...   ...   ...   ...   ...   ...   \n",
      "517         Zach LaVine   0.0   0.0   0.0   0.0   0.0   0.0   0.0   0.0   0.0   \n",
      "518       Zach Randolph   8.0   8.0   8.0  14.0  20.0  20.0  27.0  31.0  38.0   \n",
      "519       Zaza Pachulia   0.0   3.0  11.0  11.0  19.0  22.0  26.0  30.0  35.0   \n",
      "520     Zion Williamson   0.0   0.0   0.0   0.0   0.0   0.0   0.0   0.0   0.0   \n",
      "521  Zydrunas Ilgauskas   5.0  10.0  19.0  22.0  29.0  29.0  29.0  29.0  29.0   \n",
      "\n",
      "     2016  2017  2018  2019  2020  2021  2022  2023  2024  \n",
      "0    43.0  48.0  48.0  48.0  48.0  48.0  48.0  48.0  48.0  \n",
      "1     0.0   0.0   0.0   0.0   6.0   6.0  18.0  27.0  35.0  \n",
      "2     3.0   3.0   3.0   3.0   3.0   3.0   3.0   3.0   3.0  \n",
      "3     0.0   0.0   0.0   0.0   4.0   4.0   9.0   9.0   9.0  \n",
      "4     0.0   0.0   0.0   0.0   0.0   0.0   0.0   0.0   6.0  \n",
      "..    ...   ...   ...   ...   ...   ...   ...   ...   ...  \n",
      "517   0.0   0.0   0.0   0.0   0.0   4.0   8.0   8.0   8.0  \n",
      "518  38.0  38.0  38.0  38.0  38.0  38.0  38.0  38.0  38.0  \n",
      "519  43.0  48.0  48.0  52.0  52.0  52.0  52.0  52.0  52.0  \n",
      "520   0.0   0.0   0.0   0.0   0.0   0.0   0.0   0.0   4.0  \n",
      "521  29.0  29.0  29.0  29.0  29.0  29.0  29.0  29.0  29.0  \n",
      "\n",
      "[522 rows x 19 columns]\n"
     ]
    },
    {
     "name": "stderr",
     "output_type": "stream",
     "text": [
      "/var/folders/hq/qg6bwz2j2h3bxmtygp63lp5r0000gn/T/ipykernel_74479/1649897031.py:24: FutureWarning: Passing literal html to 'read_html' is deprecated and will be removed in a future version. To read from a literal string, wrap it in a 'StringIO' object.\n",
      "  current_df = pd.DataFrame(pd.read_html(str(tables[0]))[0])[['Player', 'Value']]\n"
     ]
    }
   ],
   "source": [
    "\n",
    "# Initialize current_df correctly\n",
    "current_df = pd.DataFrame()\n",
    "# Function to remove text within parentheses\n",
    "end_year = 2025\n",
    "current_year = year + 1\n",
    "\n",
    "for i in range(end_year - current_year):\n",
    "\n",
    "    url = f'https://www.teamrankings.com/nba/player-stat/fouls-technical?rate=season-totals&season_id={204 + (current_year - 2007)}'\n",
    "    try:\n",
    "        response = requests.get(url, headers=headers)\n",
    "        response.raise_for_status()  # Check if the request was successful\n",
    "\n",
    "        # Parse the HTML content\n",
    "        soup = BeautifulSoup(response.content, 'html.parser')\n",
    "\n",
    "        # Find all tables in the page\n",
    "        tables = soup.find_all('table')\n",
    "\n",
    "        # Convert the first table to a pandas DataFrame\n",
    "        if tables:\n",
    "                   \n",
    "\n",
    "            current_df = pd.DataFrame(pd.read_html(str(tables[0]))[0])[['Player', 'Value']]\n",
    "            current_df.rename(columns={'Value': f'{current_year}'}, inplace=True)\n",
    "\n",
    "           \n",
    "        else:\n",
    "            print(\"No tables found on the page.\")\n",
    "    except requests.HTTPError as e:\n",
    "        print(f\"HTTP error occurred: {e.response.status_code} - {e.response.reason}\")\n",
    "    except Exception as e:\n",
    "        print(f\"An error occurred: {str(e)}\")\n",
    "    \n",
    "    df = pd.merge(df, current_df, on='Player', how='outer')\n",
    "    df = df.fillna(0)\n",
    "    \n",
    "\n",
    "\n",
    "     # Add the goals\n",
    "    df[f'{current_year}'] = df[f'{current_year - 1}'] + df[f'{current_year}'] \n",
    "    \n",
    "\n",
    "    current_year = current_year + 1\n",
    "\n",
    "   \n",
    "    \n",
    "\n",
    "\n",
    "\n",
    "\n",
    "print(df)\n",
    "\n"
   ]
  },
  {
   "cell_type": "code",
   "execution_count": 62,
   "metadata": {},
   "outputs": [],
   "source": [
    "excel_file = \"tech_fouls.xlsx\" \n",
    " \n",
    "# Write DataFrame to Excel \n",
    "df.to_excel(excel_file, index=False) "
   ]
  },
  {
   "cell_type": "code",
   "execution_count": null,
   "metadata": {},
   "outputs": [
    {
     "name": "stdout",
     "output_type": "stream",
     "text": [
      "    player  goals_df1  goals_df2\n",
      "0  player1         10        5.0\n",
      "1  player2         20       15.0\n",
      "2  player3         30        NaN\n",
      "    player  goals_df1  goals_df2  goals_diff\n",
      "0  player1         10        5.0         5.0\n",
      "1  player2         20       15.0         5.0\n",
      "2  player3         30        0.0        30.0\n",
      "    player  goals_diff\n",
      "0  player1         5.0\n",
      "1  player2         5.0\n",
      "2  player3        30.0\n"
     ]
    },
    {
     "name": "stderr",
     "output_type": "stream",
     "text": [
      "/var/folders/hq/qg6bwz2j2h3bxmtygp63lp5r0000gn/T/ipykernel_42836/3516957942.py:18: FutureWarning: A value is trying to be set on a copy of a DataFrame or Series through chained assignment using an inplace method.\n",
      "The behavior will change in pandas 3.0. This inplace method will never work because the intermediate object on which we are setting values always behaves as a copy.\n",
      "\n",
      "For example, when doing 'df[col].method(value, inplace=True)', try using 'df.method({col: value}, inplace=True)' or df[col] = df[col].method(value) instead, to perform the operation inplace on the original object.\n",
      "\n",
      "\n",
      "  merged_df['goals_df2'].fillna(0, inplace=True)\n"
     ]
    }
   ],
   "source": [
    "import pandas as pd\n",
    "\n",
    "# Sample DataFrames\n",
    "df1 = pd.DataFrame({\n",
    "    'player': ['player1', 'player2', 'player3'],\n",
    "    'goals': [10, 20, 30]\n",
    "})\n",
    "\n",
    "df2 = pd.DataFrame({\n",
    "    'player': ['player1', 'player2', 'player4','player5'],\n",
    "    'goals': [5, 15, 25, 30]\n",
    "})\n",
    "\n",
    "# Left merge to keep all players from df1\n",
    "merged_df = pd.merge(df1, df2, on='player', how='left', suffixes=('_df1', '_df2'))\n",
    "print(merged_df)\n",
    "# Fill NaN values in goals_df2 with 0\n",
    "merged_df['goals_df2'].fillna(0, inplace=True)\n",
    "\n",
    "# Subtract the goals\n",
    "merged_df['goals_diff'] = merged_df['goals_df1'] - merged_df['goals_df2']\n",
    "print(merged_df)\n",
    "# Select only the relevant columns\n",
    "result_df = merged_df[['player', 'goals_diff']]\n",
    "\n",
    "# Display the result\n",
    "print(result_df)\n"
   ]
  }
 ],
 "metadata": {
  "kernelspec": {
   "display_name": ".venv",
   "language": "python",
   "name": "python3"
  },
  "language_info": {
   "codemirror_mode": {
    "name": "ipython",
    "version": 3
   },
   "file_extension": ".py",
   "mimetype": "text/x-python",
   "name": "python",
   "nbconvert_exporter": "python",
   "pygments_lexer": "ipython3",
   "version": "3.9.6"
  }
 },
 "nbformat": 4,
 "nbformat_minor": 2
}
