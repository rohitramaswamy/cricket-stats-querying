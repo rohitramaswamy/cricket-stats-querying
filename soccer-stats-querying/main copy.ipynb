{
 "cells": [
  {
   "cell_type": "code",
   "execution_count": 8,
   "metadata": {},
   "outputs": [],
   "source": [
    "import pandas as pd\n",
    "import requests\n",
    "from bs4 import BeautifulSoup\n"
   ]
  },
  {
   "cell_type": "code",
   "execution_count": 9,
   "metadata": {},
   "outputs": [],
   "source": [
    "country_flag_pics = {\n",
    "\n",
    "}"
   ]
  },
  {
   "cell_type": "code",
   "execution_count": 10,
   "metadata": {},
   "outputs": [],
   "source": [
    "\n",
    "\n",
    "headers = {\n",
    "    'User-Agent': 'Mozilla/5.0 (Windows NT 10.0; Win64; x64) AppleWebKit/537.36 (KHTML, like Gecko) Chrome/58.0.3029.110 Safari/537.3'\n",
    "}\n"
   ]
  },
  {
   "cell_type": "code",
   "execution_count": 14,
   "metadata": {},
   "outputs": [
    {
     "name": "stdout",
     "output_type": "stream",
     "text": [
      "27\n",
      "       #                       Player  Nation     Club  Unnamed: 4  \\\n",
      "0    1.0  Alan Shearer Centre-Forward     NaN  2 Clubs       232.0   \n",
      "1    NaN                 Alan Shearer     NaN      NaN         NaN   \n",
      "2    NaN               Centre-Forward     NaN      NaN         NaN   \n",
      "3    2.0     Andy Cole Centre-Forward     NaN  2 Clubs       223.0   \n",
      "4    NaN                    Andy Cole     NaN      NaN         NaN   \n",
      "..   ...                          ...     ...      ...         ...   \n",
      "70   NaN              Duncan Ferguson     NaN      NaN         NaN   \n",
      "71   NaN               Centre-Forward     NaN      NaN         NaN   \n",
      "72  25.0     Ryan Giggs Left Midfield     NaN      NaN       209.0   \n",
      "73   NaN                   Ryan Giggs     NaN      NaN         NaN   \n",
      "74   NaN                Left Midfield     NaN      NaN         NaN   \n",
      "\n",
      "    Unnamed: 5  Unnamed: 6  Unnamed: 7  \n",
      "0       20.065       125.0       160.0  \n",
      "1          NaN         NaN         NaN  \n",
      "2          NaN         NaN         NaN  \n",
      "3       17.642       143.0       123.0  \n",
      "4          NaN         NaN         NaN  \n",
      "..         ...         ...         ...  \n",
      "70         NaN         NaN         NaN  \n",
      "71         NaN         NaN         NaN  \n",
      "72      16.801       373.0        45.0  \n",
      "73         NaN         NaN         NaN  \n",
      "74         NaN         NaN         NaN  \n",
      "\n",
      "[75 rows x 8 columns]\n"
     ]
    },
    {
     "name": "stderr",
     "output_type": "stream",
     "text": [
      "/var/folders/hq/qg6bwz2j2h3bxmtygp63lp5r0000gn/T/ipykernel_50686/2013616620.py:17: FutureWarning: Passing literal html to 'read_html' is deprecated and will be removed in a future version. To read from a literal string, wrap it in a 'StringIO' object.\n",
      "  df = pd.DataFrame(pd.read_html(str(tables[1]))[0]) #[['Player', 'goals']]\n"
     ]
    }
   ],
   "source": [
    "\n",
    "year = 2024\n",
    "df = pd.DataFrame() \n",
    "url = 'https://www.transfermarkt.us/premier-league/ewigetorschuetzen/wettbewerb/GB1/plus//galerie/0?saisonIdVon=1993&saisonIdBis=1999&tabellenart=alle&filterPosition=alle'\n",
    "try:\n",
    "    response = requests.get(url, headers=headers)\n",
    "    response.raise_for_status()  # Check if the request was successful\n",
    "\n",
    "    # Parse the HTML content\n",
    "    soup = BeautifulSoup(response.content, 'html.parser')\n",
    "\n",
    "    # Find all tables in the page\n",
    "    tables = soup.find_all('table')\n",
    "\n",
    "    # Convert the first table to a pandas DataFrame\n",
    "    if tables:\n",
    "        print(len(tables))\n",
    "        df = pd.DataFrame(pd.read_html(str(tables[1]))[0]) #[['Player', 'goals']]\n",
    "        # df['Player'] = df['Player'].str.replace('*', '', regex=False).str.strip()\n",
    "        # df = df.drop(df.index[-1])\n",
    "        # df.rename(columns={'goals': f'{year}'}, inplace=True)\n",
    "\n",
    "\n",
    "        #df[f'{year}'] = df[f'{year}'].astype(int)\n",
    "        # df = df[['Player', 'Goals']]\n",
    "        \n",
    "        print(df)\n",
    "        # if 'Player' in df.columns and 'Runs' in df.columns:\n",
    "        #     df = df[['Player', 'Wkts']].head(15)\n",
    "        #     # df.rename(columns={'Wkts': f'{year}'}, inplace=True)\n",
    "        #     # current_df = pd.merge(current_df, df, on='Player', how='outer')\n",
    "\n",
    "        # else:\n",
    "        #     print(f\"'Player' or 'Runs' column not found for the year {year}\")\n",
    "    else:\n",
    "        print(\"No tables found on the page.\")\n",
    "except requests.HTTPError as e:\n",
    "    print(f\"HTTP error occurred: {e.response.status_code} - {e.response.reason}\")\n",
    "except Exception as e:\n",
    "    print(f\"An error occurred: {str(e)}\")\n",
    "\n"
   ]
  },
  {
   "cell_type": "code",
   "execution_count": 12,
   "metadata": {},
   "outputs": [
    {
     "ename": "NameError",
     "evalue": "name 'current_df' is not defined",
     "output_type": "error",
     "traceback": [
      "\u001b[0;31m---------------------------------------------------------------------------\u001b[0m",
      "\u001b[0;31mNameError\u001b[0m                                 Traceback (most recent call last)",
      "Cell \u001b[0;32mIn[12], line 4\u001b[0m\n\u001b[1;32m      1\u001b[0m excel_file \u001b[38;5;241m=\u001b[39m \u001b[38;5;124m\"\u001b[39m\u001b[38;5;124moutput1.xlsx\u001b[39m\u001b[38;5;124m\"\u001b[39m \n\u001b[1;32m      3\u001b[0m \u001b[38;5;66;03m# Write DataFrame to Excel \u001b[39;00m\n\u001b[0;32m----> 4\u001b[0m \u001b[43mcurrent_df\u001b[49m\u001b[38;5;241m.\u001b[39mto_excel(excel_file, index\u001b[38;5;241m=\u001b[39m\u001b[38;5;28;01mFalse\u001b[39;00m) \n",
      "\u001b[0;31mNameError\u001b[0m: name 'current_df' is not defined"
     ]
    }
   ],
   "source": [
    "excel_file = \"output1.xlsx\" \n",
    " \n",
    "# Write DataFrame to Excel \n",
    "current_df.to_excel(excel_file, index=False) "
   ]
  }
 ],
 "metadata": {
  "kernelspec": {
   "display_name": ".venv",
   "language": "python",
   "name": "python3"
  },
  "language_info": {
   "codemirror_mode": {
    "name": "ipython",
    "version": 3
   },
   "file_extension": ".py",
   "mimetype": "text/x-python",
   "name": "python",
   "nbconvert_exporter": "python",
   "pygments_lexer": "ipython3",
   "version": "3.9.6"
  }
 },
 "nbformat": 4,
 "nbformat_minor": 2
}
